{
 "cells": [
  {
   "cell_type": "code",
   "execution_count": 1,
   "id": "046da9fe",
   "metadata": {},
   "outputs": [
    {
     "data": {
      "text/html": [
       "<div>\n",
       "<style scoped>\n",
       "    .dataframe tbody tr th:only-of-type {\n",
       "        vertical-align: middle;\n",
       "    }\n",
       "\n",
       "    .dataframe tbody tr th {\n",
       "        vertical-align: top;\n",
       "    }\n",
       "\n",
       "    .dataframe thead th {\n",
       "        text-align: right;\n",
       "    }\n",
       "</style>\n",
       "<table border=\"1\" class=\"dataframe\">\n",
       "  <thead>\n",
       "    <tr style=\"text-align: right;\">\n",
       "      <th></th>\n",
       "      <th>rank</th>\n",
       "      <th>id</th>\n",
       "      <th>name</th>\n",
       "      <th>year</th>\n",
       "      <th>imbd_votes</th>\n",
       "      <th>imdb_rating</th>\n",
       "      <th>certificate</th>\n",
       "      <th>duration</th>\n",
       "      <th>genre</th>\n",
       "      <th>cast_id</th>\n",
       "      <th>cast_name</th>\n",
       "      <th>director_id</th>\n",
       "      <th>director_name</th>\n",
       "      <th>writter_name</th>\n",
       "      <th>writter_id</th>\n",
       "      <th>img_link</th>\n",
       "    </tr>\n",
       "  </thead>\n",
       "  <tbody>\n",
       "    <tr>\n",
       "      <th>0</th>\n",
       "      <td>1</td>\n",
       "      <td>tt0111161</td>\n",
       "      <td>The Shawshank Redemption</td>\n",
       "      <td>1994</td>\n",
       "      <td>2601152</td>\n",
       "      <td>9.3</td>\n",
       "      <td>A</td>\n",
       "      <td>142</td>\n",
       "      <td>Drama</td>\n",
       "      <td>nm0000209,nm0000151,nm0348409,nm0006669,nm0000...</td>\n",
       "      <td>Tim Robbins,Morgan Freeman,Bob Gunton,William ...</td>\n",
       "      <td>nm0001104</td>\n",
       "      <td>Frank Darabont</td>\n",
       "      <td>Stephen King,Frank Darabont</td>\n",
       "      <td>nm0000175,nm0001104</td>\n",
       "      <td>https://m.media-amazon.com/images/M/MV5BMDFkYT...</td>\n",
       "    </tr>\n",
       "    <tr>\n",
       "      <th>1</th>\n",
       "      <td>2</td>\n",
       "      <td>tt0068646</td>\n",
       "      <td>The Godfather</td>\n",
       "      <td>1972</td>\n",
       "      <td>1796656</td>\n",
       "      <td>9.2</td>\n",
       "      <td>A</td>\n",
       "      <td>175</td>\n",
       "      <td>Crime,Drama</td>\n",
       "      <td>nm0000008,nm0000199,nm0001001,nm0000473,nm0144...</td>\n",
       "      <td>Marlon Brando,Al Pacino,James Caan,Diane Keato...</td>\n",
       "      <td>nm0000338</td>\n",
       "      <td>Francis Ford Coppola</td>\n",
       "      <td>Mario Puzo,Francis Ford Coppola</td>\n",
       "      <td>nm0701374,nm0000338</td>\n",
       "      <td>https://m.media-amazon.com/images/M/MV5BM2MyNj...</td>\n",
       "    </tr>\n",
       "    <tr>\n",
       "      <th>2</th>\n",
       "      <td>3</td>\n",
       "      <td>tt0468569</td>\n",
       "      <td>The Dark Knight</td>\n",
       "      <td>2008</td>\n",
       "      <td>2572662</td>\n",
       "      <td>9.0</td>\n",
       "      <td>UA</td>\n",
       "      <td>152</td>\n",
       "      <td>Action,Crime,Drama</td>\n",
       "      <td>nm0000288,nm0005132,nm0001173,nm0000323,nm0350...</td>\n",
       "      <td>Christian Bale,Heath Ledger,Aaron Eckhart,Mich...</td>\n",
       "      <td>nm0634240</td>\n",
       "      <td>Christopher Nolan</td>\n",
       "      <td>Jonathan Nolan,Christopher Nolan,David S. Goyer</td>\n",
       "      <td>nm0634300,nm0634240,nm0275286</td>\n",
       "      <td>https://m.media-amazon.com/images/M/MV5BMTMxNT...</td>\n",
       "    </tr>\n",
       "    <tr>\n",
       "      <th>3</th>\n",
       "      <td>4</td>\n",
       "      <td>tt0071562</td>\n",
       "      <td>The Godfather Part II</td>\n",
       "      <td>1974</td>\n",
       "      <td>1237934</td>\n",
       "      <td>9.0</td>\n",
       "      <td>A</td>\n",
       "      <td>202</td>\n",
       "      <td>Crime,Drama</td>\n",
       "      <td>nm0000199,nm0000134,nm0000380,nm0000473,nm0001...</td>\n",
       "      <td>Al Pacino,Robert De Niro,Robert Duvall,Diane K...</td>\n",
       "      <td>nm0000338</td>\n",
       "      <td>Francis Ford Coppola</td>\n",
       "      <td>Francis Ford Coppola,Mario Puzo</td>\n",
       "      <td>nm0000338,nm0701374</td>\n",
       "      <td>https://m.media-amazon.com/images/M/MV5BMWMwMG...</td>\n",
       "    </tr>\n",
       "    <tr>\n",
       "      <th>4</th>\n",
       "      <td>5</td>\n",
       "      <td>tt0050083</td>\n",
       "      <td>12 Angry Men</td>\n",
       "      <td>1957</td>\n",
       "      <td>768548</td>\n",
       "      <td>9.0</td>\n",
       "      <td>U</td>\n",
       "      <td>96</td>\n",
       "      <td>Crime,Drama</td>\n",
       "      <td>nm0000020,nm0002011,nm0000842,nm0275835,nm0550...</td>\n",
       "      <td>Henry Fonda,Lee J. Cobb,Martin Balsam,John Fie...</td>\n",
       "      <td>nm0001486</td>\n",
       "      <td>Sidney Lumet</td>\n",
       "      <td>Reginald Rose</td>\n",
       "      <td>nm0741627</td>\n",
       "      <td>https://m.media-amazon.com/images/M/MV5BMWU4N2...</td>\n",
       "    </tr>\n",
       "  </tbody>\n",
       "</table>\n",
       "</div>"
      ],
      "text/plain": [
       "   rank         id                      name  year  imbd_votes  imdb_rating  \\\n",
       "0     1  tt0111161  The Shawshank Redemption  1994     2601152          9.3   \n",
       "1     2  tt0068646             The Godfather  1972     1796656          9.2   \n",
       "2     3  tt0468569           The Dark Knight  2008     2572662          9.0   \n",
       "3     4  tt0071562     The Godfather Part II  1974     1237934          9.0   \n",
       "4     5  tt0050083              12 Angry Men  1957      768548          9.0   \n",
       "\n",
       "  certificate duration               genre  \\\n",
       "0           A      142               Drama   \n",
       "1           A      175         Crime,Drama   \n",
       "2          UA      152  Action,Crime,Drama   \n",
       "3           A      202         Crime,Drama   \n",
       "4           U       96         Crime,Drama   \n",
       "\n",
       "                                             cast_id  \\\n",
       "0  nm0000209,nm0000151,nm0348409,nm0006669,nm0000...   \n",
       "1  nm0000008,nm0000199,nm0001001,nm0000473,nm0144...   \n",
       "2  nm0000288,nm0005132,nm0001173,nm0000323,nm0350...   \n",
       "3  nm0000199,nm0000134,nm0000380,nm0000473,nm0001...   \n",
       "4  nm0000020,nm0002011,nm0000842,nm0275835,nm0550...   \n",
       "\n",
       "                                           cast_name director_id  \\\n",
       "0  Tim Robbins,Morgan Freeman,Bob Gunton,William ...   nm0001104   \n",
       "1  Marlon Brando,Al Pacino,James Caan,Diane Keato...   nm0000338   \n",
       "2  Christian Bale,Heath Ledger,Aaron Eckhart,Mich...   nm0634240   \n",
       "3  Al Pacino,Robert De Niro,Robert Duvall,Diane K...   nm0000338   \n",
       "4  Henry Fonda,Lee J. Cobb,Martin Balsam,John Fie...   nm0001486   \n",
       "\n",
       "          director_name                                     writter_name  \\\n",
       "0        Frank Darabont                      Stephen King,Frank Darabont   \n",
       "1  Francis Ford Coppola                  Mario Puzo,Francis Ford Coppola   \n",
       "2     Christopher Nolan  Jonathan Nolan,Christopher Nolan,David S. Goyer   \n",
       "3  Francis Ford Coppola                  Francis Ford Coppola,Mario Puzo   \n",
       "4          Sidney Lumet                                    Reginald Rose   \n",
       "\n",
       "                      writter_id  \\\n",
       "0            nm0000175,nm0001104   \n",
       "1            nm0701374,nm0000338   \n",
       "2  nm0634300,nm0634240,nm0275286   \n",
       "3            nm0000338,nm0701374   \n",
       "4                      nm0741627   \n",
       "\n",
       "                                            img_link  \n",
       "0  https://m.media-amazon.com/images/M/MV5BMDFkYT...  \n",
       "1  https://m.media-amazon.com/images/M/MV5BM2MyNj...  \n",
       "2  https://m.media-amazon.com/images/M/MV5BMTMxNT...  \n",
       "3  https://m.media-amazon.com/images/M/MV5BMWMwMG...  \n",
       "4  https://m.media-amazon.com/images/M/MV5BMWU4N2...  "
      ]
     },
     "execution_count": 1,
     "metadata": {},
     "output_type": "execute_result"
    }
   ],
   "source": [
    "import pandas as pd\n",
    "df=pd.read_csv(\"movies.csv\")\n",
    "df.head()"
   ]
  },
  {
   "cell_type": "code",
   "execution_count": 22,
   "id": "94ec63fc",
   "metadata": {},
   "outputs": [
    {
     "data": {
      "text/plain": [
       "8.1    67\n",
       "8.2    54\n",
       "8.3    40\n",
       "8.4    30\n",
       "8.5    22\n",
       "8.6    14\n",
       "8.8     6\n",
       "9.0     5\n",
       "8.7     4\n",
       "8.0     4\n",
       "8.9     2\n",
       "9.3     1\n",
       "9.2     1\n",
       "Name: imdb_rating, dtype: int64"
      ]
     },
     "execution_count": 22,
     "metadata": {},
     "output_type": "execute_result"
    }
   ],
   "source": [
    "df.imdb_rating.value_counts()"
   ]
  },
  {
   "cell_type": "code",
   "execution_count": 15,
   "id": "fab77e38",
   "metadata": {},
   "outputs": [
    {
     "data": {
      "text/html": [
       "<div>\n",
       "<style scoped>\n",
       "    .dataframe tbody tr th:only-of-type {\n",
       "        vertical-align: middle;\n",
       "    }\n",
       "\n",
       "    .dataframe tbody tr th {\n",
       "        vertical-align: top;\n",
       "    }\n",
       "\n",
       "    .dataframe thead th {\n",
       "        text-align: right;\n",
       "    }\n",
       "</style>\n",
       "<table border=\"1\" class=\"dataframe\">\n",
       "  <thead>\n",
       "    <tr style=\"text-align: right;\">\n",
       "      <th></th>\n",
       "      <th>rank</th>\n",
       "      <th>id</th>\n",
       "      <th>name</th>\n",
       "      <th>year</th>\n",
       "      <th>imbd_votes</th>\n",
       "      <th>imdb_rating</th>\n",
       "      <th>certificate</th>\n",
       "      <th>duration</th>\n",
       "      <th>genre</th>\n",
       "      <th>cast_id</th>\n",
       "      <th>cast_name</th>\n",
       "      <th>director_id</th>\n",
       "      <th>director_name</th>\n",
       "      <th>writter_name</th>\n",
       "      <th>writter_id</th>\n",
       "      <th>img_link</th>\n",
       "    </tr>\n",
       "  </thead>\n",
       "  <tbody>\n",
       "    <tr>\n",
       "      <th>76</th>\n",
       "      <td>77</td>\n",
       "      <td>tt0082096</td>\n",
       "      <td>Das Boot</td>\n",
       "      <td>1981</td>\n",
       "      <td>247940</td>\n",
       "      <td>8.4</td>\n",
       "      <td>NaN</td>\n",
       "      <td>Nan</td>\n",
       "      <td>Drama,War</td>\n",
       "      <td>nm0001638,nm0344963,nm0921044,nm0071059,nm0783...</td>\n",
       "      <td>Jürgen Prochnow,Herbert Grönemeyer,Klaus Wenne...</td>\n",
       "      <td>nm0000583</td>\n",
       "      <td>Wolfgang Petersen</td>\n",
       "      <td>Wolfgang Petersen,Lothar G. Buchheim</td>\n",
       "      <td>nm0000583,nm0118164</td>\n",
       "      <td>https://m.media-amazon.com/images/M/MV5BNDBjMW...</td>\n",
       "    </tr>\n",
       "  </tbody>\n",
       "</table>\n",
       "</div>"
      ],
      "text/plain": [
       "    rank         id      name  year  imbd_votes  imdb_rating certificate  \\\n",
       "76    77  tt0082096  Das Boot  1981      247940          8.4         NaN   \n",
       "\n",
       "   duration      genre                                            cast_id  \\\n",
       "76      Nan  Drama,War  nm0001638,nm0344963,nm0921044,nm0071059,nm0783...   \n",
       "\n",
       "                                            cast_name director_id  \\\n",
       "76  Jürgen Prochnow,Herbert Grönemeyer,Klaus Wenne...   nm0000583   \n",
       "\n",
       "        director_name                          writter_name  \\\n",
       "76  Wolfgang Petersen  Wolfgang Petersen,Lothar G. Buchheim   \n",
       "\n",
       "             writter_id                                           img_link  \n",
       "76  nm0000583,nm0118164  https://m.media-amazon.com/images/M/MV5BNDBjMW...  "
      ]
     },
     "execution_count": 15,
     "metadata": {},
     "output_type": "execute_result"
    }
   ],
   "source": [
    "df[df['certificate'].isnull()]"
   ]
  },
  {
   "cell_type": "code",
   "execution_count": 21,
   "id": "c25e13c8",
   "metadata": {},
   "outputs": [
    {
     "data": {
      "text/html": [
       "<div>\n",
       "<style scoped>\n",
       "    .dataframe tbody tr th:only-of-type {\n",
       "        vertical-align: middle;\n",
       "    }\n",
       "\n",
       "    .dataframe tbody tr th {\n",
       "        vertical-align: top;\n",
       "    }\n",
       "\n",
       "    .dataframe thead th {\n",
       "        text-align: right;\n",
       "    }\n",
       "</style>\n",
       "<table border=\"1\" class=\"dataframe\">\n",
       "  <thead>\n",
       "    <tr style=\"text-align: right;\">\n",
       "      <th></th>\n",
       "      <th>rank</th>\n",
       "      <th>id</th>\n",
       "      <th>name</th>\n",
       "      <th>year</th>\n",
       "      <th>imbd_votes</th>\n",
       "      <th>imdb_rating</th>\n",
       "      <th>certificate</th>\n",
       "      <th>duration</th>\n",
       "      <th>genre</th>\n",
       "      <th>cast_id</th>\n",
       "      <th>cast_name</th>\n",
       "      <th>director_id</th>\n",
       "      <th>director_name</th>\n",
       "      <th>writter_name</th>\n",
       "      <th>writter_id</th>\n",
       "      <th>img_link</th>\n",
       "    </tr>\n",
       "  </thead>\n",
       "  <tbody>\n",
       "    <tr>\n",
       "      <th>0</th>\n",
       "      <td>1</td>\n",
       "      <td>tt0111161</td>\n",
       "      <td>The Shawshank Redemption</td>\n",
       "      <td>1994</td>\n",
       "      <td>2601152</td>\n",
       "      <td>9.3</td>\n",
       "      <td>A</td>\n",
       "      <td>142</td>\n",
       "      <td>Drama</td>\n",
       "      <td>nm0000209,nm0000151,nm0348409,nm0006669,nm0000...</td>\n",
       "      <td>Tim Robbins,Morgan Freeman,Bob Gunton,William ...</td>\n",
       "      <td>nm0001104</td>\n",
       "      <td>Frank Darabont</td>\n",
       "      <td>Stephen King,Frank Darabont</td>\n",
       "      <td>nm0000175,nm0001104</td>\n",
       "      <td>https://m.media-amazon.com/images/M/MV5BMDFkYT...</td>\n",
       "    </tr>\n",
       "    <tr>\n",
       "      <th>1</th>\n",
       "      <td>2</td>\n",
       "      <td>tt0068646</td>\n",
       "      <td>The Godfather</td>\n",
       "      <td>1972</td>\n",
       "      <td>1796656</td>\n",
       "      <td>9.2</td>\n",
       "      <td>A</td>\n",
       "      <td>175</td>\n",
       "      <td>Crime,Drama</td>\n",
       "      <td>nm0000008,nm0000199,nm0001001,nm0000473,nm0144...</td>\n",
       "      <td>Marlon Brando,Al Pacino,James Caan,Diane Keato...</td>\n",
       "      <td>nm0000338</td>\n",
       "      <td>Francis Ford Coppola</td>\n",
       "      <td>Mario Puzo,Francis Ford Coppola</td>\n",
       "      <td>nm0701374,nm0000338</td>\n",
       "      <td>https://m.media-amazon.com/images/M/MV5BM2MyNj...</td>\n",
       "    </tr>\n",
       "    <tr>\n",
       "      <th>2</th>\n",
       "      <td>3</td>\n",
       "      <td>tt0468569</td>\n",
       "      <td>The Dark Knight</td>\n",
       "      <td>2008</td>\n",
       "      <td>2572662</td>\n",
       "      <td>9.0</td>\n",
       "      <td>UA</td>\n",
       "      <td>152</td>\n",
       "      <td>Action,Crime,Drama</td>\n",
       "      <td>nm0000288,nm0005132,nm0001173,nm0000323,nm0350...</td>\n",
       "      <td>Christian Bale,Heath Ledger,Aaron Eckhart,Mich...</td>\n",
       "      <td>nm0634240</td>\n",
       "      <td>Christopher Nolan</td>\n",
       "      <td>Jonathan Nolan,Christopher Nolan,David S. Goyer</td>\n",
       "      <td>nm0634300,nm0634240,nm0275286</td>\n",
       "      <td>https://m.media-amazon.com/images/M/MV5BMTMxNT...</td>\n",
       "    </tr>\n",
       "    <tr>\n",
       "      <th>3</th>\n",
       "      <td>4</td>\n",
       "      <td>tt0071562</td>\n",
       "      <td>The Godfather Part II</td>\n",
       "      <td>1974</td>\n",
       "      <td>1237934</td>\n",
       "      <td>9.0</td>\n",
       "      <td>A</td>\n",
       "      <td>202</td>\n",
       "      <td>Crime,Drama</td>\n",
       "      <td>nm0000199,nm0000134,nm0000380,nm0000473,nm0001...</td>\n",
       "      <td>Al Pacino,Robert De Niro,Robert Duvall,Diane K...</td>\n",
       "      <td>nm0000338</td>\n",
       "      <td>Francis Ford Coppola</td>\n",
       "      <td>Francis Ford Coppola,Mario Puzo</td>\n",
       "      <td>nm0000338,nm0701374</td>\n",
       "      <td>https://m.media-amazon.com/images/M/MV5BMWMwMG...</td>\n",
       "    </tr>\n",
       "    <tr>\n",
       "      <th>4</th>\n",
       "      <td>5</td>\n",
       "      <td>tt0050083</td>\n",
       "      <td>12 Angry Men</td>\n",
       "      <td>1957</td>\n",
       "      <td>768548</td>\n",
       "      <td>9.0</td>\n",
       "      <td>U</td>\n",
       "      <td>96</td>\n",
       "      <td>Crime,Drama</td>\n",
       "      <td>nm0000020,nm0002011,nm0000842,nm0275835,nm0550...</td>\n",
       "      <td>Henry Fonda,Lee J. Cobb,Martin Balsam,John Fie...</td>\n",
       "      <td>nm0001486</td>\n",
       "      <td>Sidney Lumet</td>\n",
       "      <td>Reginald Rose</td>\n",
       "      <td>nm0741627</td>\n",
       "      <td>https://m.media-amazon.com/images/M/MV5BMWU4N2...</td>\n",
       "    </tr>\n",
       "  </tbody>\n",
       "</table>\n",
       "</div>"
      ],
      "text/plain": [
       "   rank         id                      name  year  imbd_votes  imdb_rating  \\\n",
       "0     1  tt0111161  The Shawshank Redemption  1994     2601152          9.3   \n",
       "1     2  tt0068646             The Godfather  1972     1796656          9.2   \n",
       "2     3  tt0468569           The Dark Knight  2008     2572662          9.0   \n",
       "3     4  tt0071562     The Godfather Part II  1974     1237934          9.0   \n",
       "4     5  tt0050083              12 Angry Men  1957      768548          9.0   \n",
       "\n",
       "  certificate duration               genre  \\\n",
       "0           A      142               Drama   \n",
       "1           A      175         Crime,Drama   \n",
       "2          UA      152  Action,Crime,Drama   \n",
       "3           A      202         Crime,Drama   \n",
       "4           U       96         Crime,Drama   \n",
       "\n",
       "                                             cast_id  \\\n",
       "0  nm0000209,nm0000151,nm0348409,nm0006669,nm0000...   \n",
       "1  nm0000008,nm0000199,nm0001001,nm0000473,nm0144...   \n",
       "2  nm0000288,nm0005132,nm0001173,nm0000323,nm0350...   \n",
       "3  nm0000199,nm0000134,nm0000380,nm0000473,nm0001...   \n",
       "4  nm0000020,nm0002011,nm0000842,nm0275835,nm0550...   \n",
       "\n",
       "                                           cast_name director_id  \\\n",
       "0  Tim Robbins,Morgan Freeman,Bob Gunton,William ...   nm0001104   \n",
       "1  Marlon Brando,Al Pacino,James Caan,Diane Keato...   nm0000338   \n",
       "2  Christian Bale,Heath Ledger,Aaron Eckhart,Mich...   nm0634240   \n",
       "3  Al Pacino,Robert De Niro,Robert Duvall,Diane K...   nm0000338   \n",
       "4  Henry Fonda,Lee J. Cobb,Martin Balsam,John Fie...   nm0001486   \n",
       "\n",
       "          director_name                                     writter_name  \\\n",
       "0        Frank Darabont                      Stephen King,Frank Darabont   \n",
       "1  Francis Ford Coppola                  Mario Puzo,Francis Ford Coppola   \n",
       "2     Christopher Nolan  Jonathan Nolan,Christopher Nolan,David S. Goyer   \n",
       "3  Francis Ford Coppola                  Francis Ford Coppola,Mario Puzo   \n",
       "4          Sidney Lumet                                    Reginald Rose   \n",
       "\n",
       "                      writter_id  \\\n",
       "0            nm0000175,nm0001104   \n",
       "1            nm0701374,nm0000338   \n",
       "2  nm0634300,nm0634240,nm0275286   \n",
       "3            nm0000338,nm0701374   \n",
       "4                      nm0741627   \n",
       "\n",
       "                                            img_link  \n",
       "0  https://m.media-amazon.com/images/M/MV5BMDFkYT...  \n",
       "1  https://m.media-amazon.com/images/M/MV5BM2MyNj...  \n",
       "2  https://m.media-amazon.com/images/M/MV5BMTMxNT...  \n",
       "3  https://m.media-amazon.com/images/M/MV5BMWMwMG...  \n",
       "4  https://m.media-amazon.com/images/M/MV5BMWU4N2...  "
      ]
     },
     "execution_count": 21,
     "metadata": {},
     "output_type": "execute_result"
    }
   ],
   "source": [
    "df_sorted=df.sort_values('imdb_rating', ascending=False)\n",
    "df_sorted.head()"
   ]
  },
  {
   "cell_type": "code",
   "execution_count": 27,
   "id": "4dd9e2d8",
   "metadata": {},
   "outputs": [
    {
     "data": {
      "image/png": "[encoded data removed]",
      "text/plain": [
       "<Figure size 1200x600 with 1 Axes>"
      ]
     },
     "metadata": {},
     "output_type": "display_data"
    }
   ],
   "source": [
    "import matplotlib.pyplot as plt\n",
    "import seaborn as sns\n",
    "rating_average=df_sorted.sort_values('imdb_rating',ascending=False)\n",
    "plt.figure(figsize=(12,6))\n",
    "\n",
    "ax1=sns.barplot(x=rating_average['imdb_rating'].head(10), y=rating_average['name'].head(10))\n",
    "plt.xlim(4, 10)\n",
    "plt.title('Best Movies by votes', weight='bold')\n",
    "plt.xlabel('ratings', weight='bold')\n",
    "plt.ylabel('Movie Title', weight='bold')\n",
    "plt.show()"
   ]
  },
  {
   "cell_type": "code",
   "execution_count": 28,
   "id": "bc603378",
   "metadata": {},
   "outputs": [
    {
     "data": {
      "text/plain": [
       "<function matplotlib.pyplot.show(close=None, block=None)>"
      ]
     },
     "execution_count": 28,
     "metadata": {},
     "output_type": "execute_result"
    },
    {
     "data": {
      "image/png": "[encoded data removed]",
      "text/plain": [
       "<Figure size 1200x600 with 1 Axes>"
      ]
     },
     "metadata": {},
     "output_type": "display_data"
    }
   ],
   "source": [
    "popularity=df_sorted.sort_values('imbd_votes',ascending=False)\n",
    "plt.figure(figsize=(12,6))\n",
    "ax=sns.barplot(x=popularity['imbd_votes'].head(10), y=popularity['name'].head(10), data=popularity)\n",
    "\n",
    "plt.title('Most Popular by Votes', weight='bold')\n",
    "plt.xlabel('Score of imbd_votes', weight='bold')\n",
    "plt.ylabel('Movie Title', weight='bold')\n",
    "plt.show"
   ]
  },
  {
   "cell_type": "code",
   "execution_count": 46,
   "id": "262deaec",
   "metadata": {},
   "outputs": [
    {
     "data": {
      "text/plain": [
       "0    Tim Robbins,Morgan Freeman,Bob Gunton,William ...\n",
       "Name: cast_name, dtype: object"
      ]
     },
     "execution_count": 46,
     "metadata": {},
     "output_type": "execute_result"
    }
   ],
   "source": [
    "df_sorted.head(1)['cast_name']"
   ]
  },
  {
   "cell_type": "code",
   "execution_count": 47,
   "id": "db14f2bd",
   "metadata": {},
   "outputs": [],
   "source": [
    "from sklearn.feature_extraction.text import TfidfVectorizer\n",
    "\n",
    "\n",
    "tfv = TfidfVectorizer(min_df=3,  max_features=None, \n",
    "            strip_accents='unicode', analyzer='word',token_pattern=r'\\w{1,}',\n",
    "            ngram_range=(1, 3),\n",
    "            stop_words = 'english')"
   ]
  },
  {
   "cell_type": "markdown",
   "id": "87326a20",
   "metadata": {},
   "source": [
    "  CONTENT BASED RECOMMENDATION BASED ON CAST NAMES"
   ]
  },
  {
   "cell_type": "code",
   "execution_count": 48,
   "id": "33d3190c",
   "metadata": {},
   "outputs": [
    {
     "data": {
      "text/plain": [
       "<250x819 sparse matrix of type '<class 'numpy.float64'>'\n",
       "\twith 4615 stored elements in Compressed Sparse Row format>"
      ]
     },
     "execution_count": 48,
     "metadata": {},
     "output_type": "execute_result"
    }
   ],
   "source": [
    "# Fitting the TF-IDF on the 'cast_name' text\n",
    "tfv_matrix = tfv.fit_transform(df_sorted['cast_name'])\n",
    "tfv_matrix"
   ]
  },
  {
   "cell_type": "code",
   "execution_count": 49,
   "id": "c5f41e58",
   "metadata": {},
   "outputs": [
    {
     "data": {
      "text/plain": [
       "(250, 819)"
      ]
     },
     "execution_count": 49,
     "metadata": {},
     "output_type": "execute_result"
    }
   ],
   "source": [
    "tfv_matrix.shape"
   ]
  },
  {
   "cell_type": "code",
   "execution_count": 50,
   "id": "3fd539d3",
   "metadata": {},
   "outputs": [],
   "source": [
    "from sklearn.metrics.pairwise import sigmoid_kernel\n",
    "\n",
    "# Compute the sigmoid kernel\n",
    "sig = sigmoid_kernel(tfv_matrix, tfv_matrix)"
   ]
  },
  {
   "cell_type": "code",
   "execution_count": 51,
   "id": "b2223888",
   "metadata": {},
   "outputs": [
    {
     "data": {
      "text/plain": [
       "array([0.76210647, 0.76160055, 0.76165544, 0.76159416, 0.76161599,\n",
       "       0.76161377, 0.76160214, 0.76162483, 0.76159416, 0.76165269,\n",
       "       0.76159416, 0.7616113 , 0.76161559, 0.76159416, 0.76160434,\n",
       "       0.76161012, 0.76161502, 0.7616048 , 0.76163128, 0.76165053,\n",
       "       0.76159416, 0.76159416, 0.76159416, 0.76162894, 0.76162554,\n",
       "       0.76161387, 0.76166362, 0.76159416, 0.76169978, 0.76160415,\n",
       "       0.76159416, 0.76161017, 0.76159416, 0.76161825, 0.76159416,\n",
       "       0.76160491, 0.76159416, 0.76160284, 0.76159416, 0.76161876,\n",
       "       0.76162041, 0.76159416, 0.76161344, 0.76159416, 0.76160853,\n",
       "       0.76160232, 0.76161543, 0.76159416, 0.76160957, 0.76161548,\n",
       "       0.76162145, 0.76161409, 0.76162269, 0.76168408, 0.76161809,\n",
       "       0.7616756 , 0.76161316, 0.76160215, 0.76162062, 0.76162973,\n",
       "       0.76159416, 0.76162337, 0.76159416, 0.76159416, 0.76159416,\n",
       "       0.76159416, 0.76159416, 0.76164588, 0.76159416, 0.76165281,\n",
       "       0.76161573, 0.76162841, 0.76164199, 0.76159416, 0.7616039 ,\n",
       "       0.76165161, 0.76161174, 0.76164494, 0.76162149, 0.76159416,\n",
       "       0.76159416, 0.761613  , 0.76162273, 0.76172679, 0.76161399,\n",
       "       0.76162451, 0.76159416, 0.76167679, 0.76160441, 0.76159416,\n",
       "       0.76162667, 0.76159416, 0.76159416, 0.76161284, 0.76159416,\n",
       "       0.76162771, 0.76159416, 0.76159416, 0.76159416, 0.76159416,\n",
       "       0.76159416, 0.76165795, 0.76162482, 0.76161542, 0.76160333,\n",
       "       0.76160431, 0.76163151, 0.76159416, 0.76164462, 0.76159416,\n",
       "       0.76160761, 0.76161048, 0.76161173, 0.76162689, 0.76160608,\n",
       "       0.76161095, 0.76162803, 0.76164973, 0.76159416, 0.76159416,\n",
       "       0.76160222, 0.76160895, 0.76162313, 0.76159416, 0.76161265,\n",
       "       0.76165338, 0.76161093, 0.76159416, 0.76159416, 0.76159416,\n",
       "       0.76161301, 0.76162595, 0.76164152, 0.76161163, 0.76162012,\n",
       "       0.76159416, 0.76159416, 0.76159416, 0.76159416, 0.76159416,\n",
       "       0.76160477, 0.76159416, 0.76159416, 0.76161275, 0.76161179,\n",
       "       0.76160594, 0.76159416, 0.76160642, 0.76159416, 0.76161679,\n",
       "       0.76159416, 0.76161622, 0.76165872, 0.76159416, 0.76167806,\n",
       "       0.76164297, 0.76161627, 0.76163413, 0.7616041 , 0.76160562,\n",
       "       0.76164291, 0.76160522, 0.76162863, 0.76161155, 0.76162852,\n",
       "       0.76168031, 0.76162843, 0.76160959, 0.76164649, 0.76159416,\n",
       "       0.76163277, 0.76160325, 0.76162058, 0.76163341, 0.76163772,\n",
       "       0.76159416, 0.76163315, 0.7616016 , 0.76159416, 0.76163268,\n",
       "       0.76162688, 0.76164511, 0.76164827, 0.7616264 , 0.76159416,\n",
       "       0.76160576, 0.76164766, 0.76160751, 0.76162096, 0.76159416,\n",
       "       0.76161364, 0.76161666, 0.76160317, 0.76159416, 0.76160422,\n",
       "       0.76159416, 0.76159416, 0.76162556, 0.76159416, 0.76159416,\n",
       "       0.76163387, 0.76162939, 0.76160423, 0.76159416, 0.76159416,\n",
       "       0.76159416, 0.76161895, 0.76160955, 0.76159416, 0.76159416,\n",
       "       0.76159416, 0.76160187, 0.76164068, 0.76162934, 0.76159416,\n",
       "       0.76161512, 0.76161582, 0.76165019, 0.76160121, 0.76161834,\n",
       "       0.76166536, 0.76168879, 0.76162313, 0.76159416, 0.76163589,\n",
       "       0.76165891, 0.76160213, 0.76159416, 0.76159416, 0.76159416,\n",
       "       0.76159416, 0.76160349, 0.76165078, 0.76163352, 0.76160401,\n",
       "       0.76160758, 0.76162894, 0.76159416, 0.76159416, 0.76162699,\n",
       "       0.76159416, 0.76160741, 0.76159416, 0.76159416, 0.76160011,\n",
       "       0.76161378, 0.7616166 , 0.7616308 , 0.76159416, 0.76162137])"
      ]
     },
     "execution_count": 51,
     "metadata": {},
     "output_type": "execute_result"
    }
   ],
   "source": [
    "sig[0]"
   ]
  },
  {
   "cell_type": "code",
   "execution_count": 52,
   "id": "8f3f1c1c",
   "metadata": {},
   "outputs": [
    {
     "data": {
      "text/plain": [
       "name\n",
       "The Shawshank Redemption      0\n",
       "The Godfather                 1\n",
       "The Dark Knight               2\n",
       "The Godfather Part II         3\n",
       "12 Angry Men                  4\n",
       "                           ... \n",
       "The Grand Budapest Hotel    189\n",
       "Life of Brian               239\n",
       "Aladdin                     246\n",
       "The Incredibles             227\n",
       "Beauty and the Beast        249\n",
       "Length: 250, dtype: int64"
      ]
     },
     "execution_count": 52,
     "metadata": {},
     "output_type": "execute_result"
    }
   ],
   "source": [
    "indices = pd.Series(df_sorted.index, index=df_sorted['name']).drop_duplicates()\n",
    "indices"
   ]
  },
  {
   "cell_type": "code",
   "execution_count": 57,
   "id": "440b4dc3",
   "metadata": {},
   "outputs": [],
   "source": [
    "def give_rec(name, sig=sig):\n",
    "    # Get the index corresponding to original_title\n",
    "    idx = indices[name]\n",
    "\n",
    "    # Get the pairwsie similarity scores \n",
    "    sig_scores = list(enumerate(sig[idx]))\n",
    "\n",
    "    # Sort the movies \n",
    "    sig_scores = sorted(sig_scores, key=lambda x: x[1], reverse=True)\n",
    "\n",
    "    # Scores of the 10 most similar movies\n",
    "    sig_scores = sig_scores[1:11]\n",
    "\n",
    "    # Movie indices\n",
    "    movie_indices = [i[0] for i in sig_scores]\n",
    "\n",
    "    # Top 10 most similar movies\n",
    "    return df_sorted['name'].iloc[movie_indices]"
   ]
  },
  {
   "cell_type": "code",
   "execution_count": 58,
   "id": "5fddcd62",
   "metadata": {},
   "outputs": [
    {
     "data": {
      "text/plain": [
       "3      The Godfather Part II\n",
       "92                Capharnaüm\n",
       "177        On the Waterfront\n",
       "105                 Scarface\n",
       "211                    Rocky\n",
       "54            Apocalypse Now\n",
       "112                     Heat\n",
       "187          The Deer Hunter\n",
       "108    To Kill a Mockingbird\n",
       "117                 Die Hard\n",
       "Name: name, dtype: object"
      ]
     },
     "execution_count": 58,
     "metadata": {},
     "output_type": "execute_result"
    }
   ],
   "source": [
    "give_rec('The Godfather')"
   ]
  },
  {
   "cell_type": "code",
   "execution_count": 63,
   "id": "edce1064",
   "metadata": {
    "scrolled": true
   },
   "outputs": [
    {
     "data": {
      "text/html": [
       "<div>\n",
       "<style scoped>\n",
       "    .dataframe tbody tr th:only-of-type {\n",
       "        vertical-align: middle;\n",
       "    }\n",
       "\n",
       "    .dataframe tbody tr th {\n",
       "        vertical-align: top;\n",
       "    }\n",
       "\n",
       "    .dataframe thead th {\n",
       "        text-align: right;\n",
       "    }\n",
       "</style>\n",
       "<table border=\"1\" class=\"dataframe\">\n",
       "  <thead>\n",
       "    <tr style=\"text-align: right;\">\n",
       "      <th></th>\n",
       "      <th>rank</th>\n",
       "      <th>id</th>\n",
       "      <th>name</th>\n",
       "      <th>year</th>\n",
       "      <th>imbd_votes</th>\n",
       "      <th>imdb_rating</th>\n",
       "      <th>certificate</th>\n",
       "      <th>duration</th>\n",
       "      <th>genre</th>\n",
       "      <th>cast_id</th>\n",
       "      <th>cast_name</th>\n",
       "      <th>director_id</th>\n",
       "      <th>director_name</th>\n",
       "      <th>writter_name</th>\n",
       "      <th>writter_id</th>\n",
       "      <th>img_link</th>\n",
       "    </tr>\n",
       "  </thead>\n",
       "  <tbody>\n",
       "    <tr>\n",
       "      <th>1</th>\n",
       "      <td>2</td>\n",
       "      <td>tt0068646</td>\n",
       "      <td>The Godfather</td>\n",
       "      <td>1972</td>\n",
       "      <td>1796656</td>\n",
       "      <td>9.2</td>\n",
       "      <td>A</td>\n",
       "      <td>175</td>\n",
       "      <td>Crime,Drama</td>\n",
       "      <td>nm0000008,nm0000199,nm0001001,nm0000473,nm0144...</td>\n",
       "      <td>Marlon Brando,Al Pacino,James Caan,Diane Keato...</td>\n",
       "      <td>nm0000338</td>\n",
       "      <td>Francis Ford Coppola</td>\n",
       "      <td>Mario Puzo,Francis Ford Coppola</td>\n",
       "      <td>nm0701374,nm0000338</td>\n",
       "      <td>https://m.media-amazon.com/images/M/MV5BM2MyNj...</td>\n",
       "    </tr>\n",
       "  </tbody>\n",
       "</table>\n",
       "</div>"
      ],
      "text/plain": [
       "   rank         id           name  year  imbd_votes  imdb_rating certificate  \\\n",
       "1     2  tt0068646  The Godfather  1972     1796656          9.2           A   \n",
       "\n",
       "  duration        genre                                            cast_id  \\\n",
       "1      175  Crime,Drama  nm0000008,nm0000199,nm0001001,nm0000473,nm0144...   \n",
       "\n",
       "                                           cast_name director_id  \\\n",
       "1  Marlon Brando,Al Pacino,James Caan,Diane Keato...   nm0000338   \n",
       "\n",
       "          director_name                     writter_name           writter_id  \\\n",
       "1  Francis Ford Coppola  Mario Puzo,Francis Ford Coppola  nm0701374,nm0000338   \n",
       "\n",
       "                                            img_link  \n",
       "1  https://m.media-amazon.com/images/M/MV5BM2MyNj...  "
      ]
     },
     "execution_count": 63,
     "metadata": {},
     "output_type": "execute_result"
    }
   ],
   "source": [
    "df[(df['name']=='The Godfather')]"
   ]
  },
  {
   "cell_type": "code",
   "execution_count": 64,
   "id": "829287ca",
   "metadata": {},
   "outputs": [
    {
     "data": {
      "text/html": [
       "<div>\n",
       "<style scoped>\n",
       "    .dataframe tbody tr th:only-of-type {\n",
       "        vertical-align: middle;\n",
       "    }\n",
       "\n",
       "    .dataframe tbody tr th {\n",
       "        vertical-align: top;\n",
       "    }\n",
       "\n",
       "    .dataframe thead th {\n",
       "        text-align: right;\n",
       "    }\n",
       "</style>\n",
       "<table border=\"1\" class=\"dataframe\">\n",
       "  <thead>\n",
       "    <tr style=\"text-align: right;\">\n",
       "      <th></th>\n",
       "      <th>rank</th>\n",
       "      <th>id</th>\n",
       "      <th>name</th>\n",
       "      <th>year</th>\n",
       "      <th>imbd_votes</th>\n",
       "      <th>imdb_rating</th>\n",
       "      <th>certificate</th>\n",
       "      <th>duration</th>\n",
       "      <th>genre</th>\n",
       "      <th>cast_id</th>\n",
       "      <th>cast_name</th>\n",
       "      <th>director_id</th>\n",
       "      <th>director_name</th>\n",
       "      <th>writter_name</th>\n",
       "      <th>writter_id</th>\n",
       "      <th>img_link</th>\n",
       "    </tr>\n",
       "  </thead>\n",
       "  <tbody>\n",
       "    <tr>\n",
       "      <th>92</th>\n",
       "      <td>93</td>\n",
       "      <td>tt8267604</td>\n",
       "      <td>Capharnaüm</td>\n",
       "      <td>2018</td>\n",
       "      <td>85662</td>\n",
       "      <td>8.4</td>\n",
       "      <td>A</td>\n",
       "      <td>126</td>\n",
       "      <td>Drama</td>\n",
       "      <td>nm9862858,nm9862859,nm9862860,nm10201625,nm576...</td>\n",
       "      <td>Zain Al Rafeea,Yordanos Shiferaw,Boluwatife Tr...</td>\n",
       "      <td>nm1701024</td>\n",
       "      <td>Nadine Labaki</td>\n",
       "      <td>Nadine Labaki,Jihad Hojeily,Michelle Keserwany</td>\n",
       "      <td>nm1701024,nm2764802,nm9878616</td>\n",
       "      <td>https://m.media-amazon.com/images/M/MV5BZmExNm...</td>\n",
       "    </tr>\n",
       "  </tbody>\n",
       "</table>\n",
       "</div>"
      ],
      "text/plain": [
       "    rank         id        name  year  imbd_votes  imdb_rating certificate  \\\n",
       "92    93  tt8267604  Capharnaüm  2018       85662          8.4           A   \n",
       "\n",
       "   duration  genre                                            cast_id  \\\n",
       "92      126  Drama  nm9862858,nm9862859,nm9862860,nm10201625,nm576...   \n",
       "\n",
       "                                            cast_name director_id  \\\n",
       "92  Zain Al Rafeea,Yordanos Shiferaw,Boluwatife Tr...   nm1701024   \n",
       "\n",
       "    director_name                                    writter_name  \\\n",
       "92  Nadine Labaki  Nadine Labaki,Jihad Hojeily,Michelle Keserwany   \n",
       "\n",
       "                       writter_id  \\\n",
       "92  nm1701024,nm2764802,nm9878616   \n",
       "\n",
       "                                             img_link  \n",
       "92  https://m.media-amazon.com/images/M/MV5BZmExNm...  "
      ]
     },
     "execution_count": 64,
     "metadata": {},
     "output_type": "execute_result"
    }
   ],
   "source": [
    "df[(df['name']=='Capharnaüm')]"
   ]
  },
  {
   "cell_type": "markdown",
   "id": "b23e6814",
   "metadata": {},
   "source": [
    "  CONTENT BASED RECOMMENDATION BASED ON imdb_rating"
   ]
  },
  {
   "cell_type": "code",
   "execution_count": 76,
   "id": "155951fa",
   "metadata": {},
   "outputs": [
    {
     "data": {
      "text/plain": [
       "<250x81 sparse matrix of type '<class 'numpy.float64'>'\n",
       "\twith 1113 stored elements in Compressed Sparse Row format>"
      ]
     },
     "execution_count": 76,
     "metadata": {},
     "output_type": "execute_result"
    }
   ],
   "source": [
    "tfv_matrix1 = tfv.fit_transform(df_sorted['genre'])\n",
    "tfv_matrix1"
   ]
  },
  {
   "cell_type": "code",
   "execution_count": 77,
   "id": "941620de",
   "metadata": {},
   "outputs": [],
   "source": [
    "from sklearn.metrics.pairwise import linear_kernel\n",
    "\n",
    "sig1 = linear_kernel(tfv_matrix1, tfv_matrix1)"
   ]
  },
  {
   "cell_type": "code",
   "execution_count": 78,
   "id": "c5d40ede",
   "metadata": {},
   "outputs": [
    {
     "data": {
      "text/plain": [
       "3            The Godfather Part II\n",
       "4                     12 Angry Men\n",
       "7                     Pulp Fiction\n",
       "22                  Cidade de Deus\n",
       "37              American History X\n",
       "108          To Kill a Mockingbird\n",
       "105                       Scarface\n",
       "80     Once Upon a Time in America\n",
       "109                    Taxi Driver\n",
       "137                         Casino\n",
       "Name: name, dtype: object"
      ]
     },
     "execution_count": 78,
     "metadata": {},
     "output_type": "execute_result"
    }
   ],
   "source": [
    "give_rec('The Godfather', sig=sig1)"
   ]
  },
  {
   "cell_type": "markdown",
   "id": "14bd12a3",
   "metadata": {},
   "source": []
  },
  {
   "cell_type": "code",
   "execution_count": null,
   "id": "96b5a0fd",
   "metadata": {},
   "outputs": [],
   "source": []
  }
 ],
 "metadata": {
  "kernelspec": {
   "display_name": "Python 3 (ipykernel)",
   "language": "python",
   "name": "python3"
  },
  "language_info": {
   "codemirror_mode": {
    "name": "ipython",
    "version": 3
   },
   "file_extension": ".py",
   "mimetype": "text/x-python",
   "name": "python",
   "nbconvert_exporter": "python",
   "pygments_lexer": "ipython3",
   "version": "3.11.4"
  }
 },
 "nbformat": 4,
 "nbformat_minor": 5
}
